{
  "nbformat": 4,
  "nbformat_minor": 0,
  "metadata": {
    "colab": {
      "name": "SIGNATEbeginnerconpe.ipynb",
      "provenance": [],
      "authorship_tag": "ABX9TyMsN8d3o10qt/mvFL0LEoA8",
      "include_colab_link": true
    },
    "kernelspec": {
      "name": "python3",
      "display_name": "Python 3"
    }
  },
  "cells": [
    {
      "cell_type": "markdown",
      "metadata": {
        "id": "view-in-github",
        "colab_type": "text"
      },
      "source": [
        "<a href=\"https://colab.research.google.com/github/tenten0727/SignateBeginner1/blob/master/SIGNATEbeginnerconpe.ipynb\" target=\"_parent\"><img src=\"https://colab.research.google.com/assets/colab-badge.svg\" alt=\"Open In Colab\"/></a>"
      ]
    },
    {
      "cell_type": "markdown",
      "metadata": {
        "id": "LbOugwc7KDvU",
        "colab_type": "text"
      },
      "source": [
        "google driveマウント"
      ]
    },
    {
      "cell_type": "code",
      "metadata": {
        "id": "LAzg9gzHJkfn",
        "colab_type": "code",
        "colab": {
          "base_uri": "https://localhost:8080/",
          "height": 122
        },
        "outputId": "bc9e8533-76a7-4f0a-8613-425d3569f8bc"
      },
      "source": [
        "from google.colab import drive\n",
        "drive.mount('/content/gdrive')"
      ],
      "execution_count": null,
      "outputs": [
        {
          "output_type": "stream",
          "text": [
            "Go to this URL in a browser: https://accounts.google.com/o/oauth2/auth?client_id=947318989803-6bn6qk8qdgf4n4g3pfee6491hc0brc4i.apps.googleusercontent.com&redirect_uri=urn%3aietf%3awg%3aoauth%3a2.0%3aoob&scope=email%20https%3a%2f%2fwww.googleapis.com%2fauth%2fdocs.test%20https%3a%2f%2fwww.googleapis.com%2fauth%2fdrive%20https%3a%2f%2fwww.googleapis.com%2fauth%2fdrive.photos.readonly%20https%3a%2f%2fwww.googleapis.com%2fauth%2fpeopleapi.readonly&response_type=code\n",
            "\n",
            "Enter your authorization code:\n",
            "··········\n",
            "Mounted at /content/gdrive\n"
          ],
          "name": "stdout"
        }
      ]
    },
    {
      "cell_type": "markdown",
      "metadata": {
        "id": "gwArphhH11qJ",
        "colab_type": "text"
      },
      "source": [
        "import"
      ]
    },
    {
      "cell_type": "code",
      "metadata": {
        "id": "JCuxT4gV1rtR",
        "colab_type": "code",
        "colab": {}
      },
      "source": [
        "from sklearn.ensemble import RandomForestClassifier\n",
        "import matplotlib.pyplot as plt\n",
        "import numpy as np\n",
        "import pandas as pd\n",
        "import datetime\n",
        "from sklearn.metrics import accuracy_score\n",
        "from sklearn.model_selection import train_test_split\n",
        "from sklearn.base import clone\n",
        "from itertools import combinations\n"
      ],
      "execution_count": null,
      "outputs": []
    },
    {
      "cell_type": "markdown",
      "metadata": {
        "id": "y5A8yCyNgrkP",
        "colab_type": "text"
      },
      "source": [
        "SBS(逐次後退選択)"
      ]
    },
    {
      "cell_type": "code",
      "metadata": {
        "id": "sZhCISpqg7Yo",
        "colab_type": "code",
        "colab": {}
      },
      "source": [
        "class SBS():\n",
        "  def __init__(self, estimator, k_features, scoring=accuracy_score, test_size=0.25, random_state=1):\n",
        "    self.scoring = scoring\n",
        "    self.estimator = estimator\n",
        "    self.k_features = k_features\n",
        "    self.test_size = test_size\n",
        "    self.random_state = random_state\n",
        "\n",
        "  def fit(self, X, y):\n",
        "    X_train, X_test, y_train, y_test = train_test_split(X, y, test_size=self.test_size, random_state=self.random_state)\n",
        "    dim = X_train.shape[1]\n",
        "    self.indices_ = tuple(range(dim))\n",
        "    self.subsets_ = [self.indices_]\n",
        "\n",
        "    score = self._calc_score(X_train, y_train, X_test, y_test, self.indices_)\n",
        "    self.scores_ = [score]\n",
        "    \n",
        "    while dim > self.k_features:\n",
        "      scores = []\n",
        "      subsets = []\n",
        "\n",
        "      for p in combinations(self.indices_, r=dim-1):\n",
        "        score = self._calc_score(X_train, y_train, X_test, y_test, p)\n",
        "        scores.append(score)\n",
        "        subsets.append(p)\n",
        "\n",
        "      best = np.argmax(scores)\n",
        "      self.indices_ = subsets[best]\n",
        "      self.subsets_.append(self.indices_)\n",
        "      self.scores_.append(scores[best])\n",
        "      dim -=1\n",
        "\n",
        "    self.k_score = self.scores_[-1]\n",
        "\n",
        "    return self\n",
        "\n",
        "  def transform(self, X):\n",
        "    return X[:, self.indices_]\n",
        "\n",
        "  def _calc_score(self, X_train, y_train, X_test, y_test, indices):\n",
        "    self.estimator.fit(X_train[:, indices], y_train)\n",
        "    y_pred = self.estimator.predict(X_test[:, indices])\n",
        "    score = self.scoring(y_test, y_pred)\n",
        "    return score\n",
        "  \n",
        "\n",
        "\n",
        "    \n",
        "    "
      ],
      "execution_count": null,
      "outputs": []
    },
    {
      "cell_type": "markdown",
      "metadata": {
        "id": "eoNQLi1eUve6",
        "colab_type": "text"
      },
      "source": [
        "データ取得・データ前処理"
      ]
    },
    {
      "cell_type": "code",
      "metadata": {
        "id": "-D_fNEnQL36S",
        "colab_type": "code",
        "colab": {
          "base_uri": "https://localhost:8080/",
          "height": 34
        },
        "outputId": "d9460dd2-2465-4f37-cf83-485363f57f75"
      },
      "source": [
        "# np.set_printoptions(threshold=50000) #省略する閾値設定\n",
        "pd.set_option('display.max_columns', 100) #dataframeの表示行数制限\n",
        "\n",
        "train_data = pd.read_csv('/content/gdrive/My Drive/SIGNATE/Beginner1/train.csv')\n",
        "test_data = pd.read_csv('/content/gdrive/My Drive/SIGNATE/Beginner1/test.csv')\n",
        "\n",
        "#テストid\n",
        "test_id = np.array(test_data[\"id\"]).astype(int)\n",
        "\n",
        "#特徴量削減\n",
        "# train_data = train_data.drop(['id', 'job', 'default', 'education', 'contact', 'marital', 'housing', 'loan', 'poutcome', 'campaign', 'previous'], axis=1)\n",
        "# test_data = test_data.drop(['id', 'job', 'default', 'education', 'contact', 'marital',  'housing', 'loan', 'poutcome',  'campaign', 'previous'], axis=1)\n",
        "\n",
        "\n",
        "yes_no_mapping = {'no': 0, 'yes': 1}\n",
        "\n",
        "train_data['default'] = train_data['default'].map(yes_no_mapping)\n",
        "train_data['housing'] = train_data['housing'].map(yes_no_mapping)\n",
        "train_data['loan'] = train_data['loan'].map(yes_no_mapping)\n",
        "\n",
        "test_data['default'] = test_data['default'].map(yes_no_mapping)\n",
        "test_data['housing'] = test_data['housing'].map(yes_no_mapping)\n",
        "test_data['loan'] = test_data['loan'].map(yes_no_mapping)\n",
        "\n",
        "month_mapping = {'jan': 1, 'feb': 2, 'mar': 3, 'apr': 4, 'may': 5, 'jun': 6, 'jul': 7, 'aug': 8, 'sep': 9, 'oct': 10, 'nov': 11, 'dec': 12}\n",
        "\n",
        "train_data['month'] = train_data['month'].map(month_mapping)\n",
        "test_data['month'] = test_data['month'].map(month_mapping)\n",
        "\n",
        "train_data = pd.get_dummies(train_data, drop_first=True)\n",
        "test_data = pd.get_dummies(test_data, drop_first=True)\n",
        "\n",
        "#目的変数と説明変数に分ける\n",
        "X_train, y_train = train_data.drop('y', axis=1).values, train_data['y'].values\n",
        "\n",
        "X_test = test_data.values\n",
        "\n",
        "X_train_train, X_train_test, y_train_train, y_train_test = train_test_split(X_train, y_train, test_size=0.3, stratify=y_train, random_state=0) # stratify=y_trainはy_trainの分けた時の0, 1の比率をそろえる\n",
        "X_train_train.shape\n"
      ],
      "execution_count": null,
      "outputs": [
        {
          "output_type": "execute_result",
          "data": {
            "text/plain": [
              "(18970, 32)"
            ]
          },
          "metadata": {
            "tags": []
          },
          "execution_count": 17
        }
      ]
    },
    {
      "cell_type": "markdown",
      "metadata": {
        "id": "rUrMlnjz1_uj",
        "colab_type": "text"
      },
      "source": [
        "SBS適用"
      ]
    },
    {
      "cell_type": "code",
      "metadata": {
        "id": "T-3f3j-H2I48",
        "colab_type": "code",
        "colab": {
          "base_uri": "https://localhost:8080/",
          "height": 510
        },
        "outputId": "84e117e9-e027-4710-e279-b01e1c23fa27"
      },
      "source": [
        "forest = RandomForestClassifier(criterion='gini', n_estimators=500, random_state=1, n_jobs=2)\n",
        "\n",
        "sbs = SBS(forest, 4)\n",
        "sbs.fit(X_train, y_train)\n",
        "sbs.scores_"
      ],
      "execution_count": null,
      "outputs": [
        {
          "output_type": "execute_result",
          "data": {
            "text/plain": [
              "[0.9366789667896679,\n",
              " 0.937859778597786,\n",
              " 0.9381549815498155,\n",
              " 0.9388929889298893,\n",
              " 0.939630996309963,\n",
              " 0.9397785977859778,\n",
              " 0.9394833948339484,\n",
              " 0.9402214022140222,\n",
              " 0.9397785977859778,\n",
              " 0.940369003690037,\n",
              " 0.940369003690037,\n",
              " 0.9402214022140222,\n",
              " 0.9400738007380074,\n",
              " 0.9399261992619926,\n",
              " 0.9402214022140222,\n",
              " 0.9402214022140222,\n",
              " 0.9397785977859778,\n",
              " 0.9402214022140222,\n",
              " 0.939630996309963,\n",
              " 0.9393357933579336,\n",
              " 0.939630996309963,\n",
              " 0.9385977859778598,\n",
              " 0.9365313653136531,\n",
              " 0.9368265682656827,\n",
              " 0.9357933579335793,\n",
              " 0.9338745387453875,\n",
              " 0.9326937269372694,\n",
              " 0.9322509225092251,\n",
              " 0.9313653136531366]"
            ]
          },
          "metadata": {
            "tags": []
          },
          "execution_count": 26
        }
      ]
    },
    {
      "cell_type": "markdown",
      "metadata": {
        "id": "2dXU8IIRXCZy",
        "colab_type": "text"
      },
      "source": [
        "検証用ランダムフォレスト"
      ]
    },
    {
      "cell_type": "code",
      "metadata": {
        "id": "d2JYVOH7XB18",
        "colab_type": "code",
        "colab": {
          "base_uri": "https://localhost:8080/",
          "height": 297
        },
        "outputId": "5a4d108a-e868-466f-f1ab-f8610fb7fb96"
      },
      "source": [
        "feat_labels = train_data.drop('y', axis=1).columns\n",
        "test_forest = RandomForestClassifier(criterion='gini', n_estimators=500, random_state=1, n_jobs=2)\n",
        "test_forest.fit(X_train_train, y_train_train)\n",
        "importances = test_forest.feature_importances_\n",
        "indices = np.argsort(importances)[::-1]\n",
        "\n",
        "plt.title('Feature Importances')\n",
        "plt.bar(range(X_train_train.shape[1]), importances[indices], align='center')\n",
        "plt.xticks(range(X_train_train.shape[1]), feat_labels[indices], rotation=90)\n",
        "plt.tight_layout()\n",
        "plt.show()\n",
        "\n",
        "test_predict = test_forest.predict(X_train_test)\n"
      ],
      "execution_count": null,
      "outputs": [
        {
          "output_type": "display_data",
          "data": {
            "image/png": "[encoded data removed]",
            "text/plain": [
              "<Figure size 432x288 with 1 Axes>"
            ]
          },
          "metadata": {
            "tags": [],
            "needs_background": "light"
          }
        }
      ]
    },
    {
      "cell_type": "markdown",
      "metadata": {
        "id": "IJLdM3byNMUh",
        "colab_type": "text"
      },
      "source": [
        "性能"
      ]
    },
    {
      "cell_type": "code",
      "metadata": {
        "id": "Wjpz22xgNORO",
        "colab_type": "code",
        "colab": {
          "base_uri": "https://localhost:8080/",
          "height": 34
        },
        "outputId": "3de0c979-0400-4cf8-b9ff-3e31bd1610ec"
      },
      "source": [
        "print(accuracy_score(y_train_test, test_forest.predict(X_train_test)))"
      ],
      "execution_count": null,
      "outputs": [
        {
          "output_type": "stream",
          "text": [
            "0.9207872078720787\n"
          ],
          "name": "stdout"
        }
      ]
    },
    {
      "cell_type": "markdown",
      "metadata": {
        "id": "loQ6gfosU1A0",
        "colab_type": "text"
      },
      "source": [
        "本番用ランダムフォレスト"
      ]
    },
    {
      "cell_type": "code",
      "metadata": {
        "id": "3rd8kecBPYfU",
        "colab_type": "code",
        "colab": {
          "base_uri": "https://localhost:8080/",
          "height": 297
        },
        "outputId": "bc078d3c-faaa-47b9-d7ff-09d7738ce61a"
      },
      "source": [
        "feat_labels = train_data.drop('y', axis=1).columns\n",
        "forest = RandomForestClassifier(criterion='gini', n_estimators=500, random_state=1, n_jobs=2)\n",
        "forest.fit(X_train, y_train)\n",
        "importances = forest.feature_importances_\n",
        "indices = np.argsort(importances)[::-1]\n",
        "\n",
        "plt.title('Feature Importances')\n",
        "plt.bar(range(X_train.shape[1]), importances[indices], align='center')\n",
        "plt.xticks(range(X_train.shape[1]), feat_labels[indices], rotation=90)\n",
        "plt.tight_layout()\n",
        "plt.show()\n",
        "\n",
        "predict = forest.predict(X_test)\n"
      ],
      "execution_count": null,
      "outputs": [
        {
          "output_type": "display_data",
          "data": {
            "image/png": "[encoded data removed]",
            "text/plain": [
              "<Figure size 432x288 with 1 Axes>"
            ]
          },
          "metadata": {
            "tags": [],
            "needs_background": "light"
          }
        }
      ]
    },
    {
      "cell_type": "markdown",
      "metadata": {
        "id": "BbkREFh2P-cH",
        "colab_type": "text"
      },
      "source": [
        "結果をcsv出力\n"
      ]
    },
    {
      "cell_type": "code",
      "metadata": {
        "id": "BLIQYBstPC26",
        "colab_type": "code",
        "colab": {
          "base_uri": "https://localhost:8080/",
          "height": 17
        },
        "outputId": "d1cccfa7-0621-4037-ef65-3969aa13e121"
      },
      "source": [
        "MySolution = pd.DataFrame(predict.astype(float), test_id)\n",
        "\n",
        "MySolution.to_csv('beginner-'+datetime.date.today().isoformat()+\".csv\", header=False) #headerなしで出力\n",
        "from google.colab import files\n",
        "files.download('beginner-'+datetime.date.today().isoformat()+\".csv\")"
      ],
      "execution_count": null,
      "outputs": [
        {
          "output_type": "display_data",
          "data": {
            "application/javascript": [
              "\n",
              "    async function download(id, filename, size) {\n",
              "      if (!google.colab.kernel.accessAllowed) {\n",
              "        return;\n",
              "      }\n",
              "      const div = document.createElement('div');\n",
              "      const label = document.createElement('label');\n",
              "      label.textContent = `Downloading \"${filename}\": `;\n",
              "      div.appendChild(label);\n",
              "      const progress = document.createElement('progress');\n",
              "      progress.max = size;\n",
              "      div.appendChild(progress);\n",
              "      document.body.appendChild(div);\n",
              "\n",
              "      const buffers = [];\n",
              "      let downloaded = 0;\n",
              "\n",
              "      const channel = await google.colab.kernel.comms.open(id);\n",
              "      // Send a message to notify the kernel that we're ready.\n",
              "      channel.send({})\n",
              "\n",
              "      for await (const message of channel.messages) {\n",
              "        // Send a message to notify the kernel that we're ready.\n",
              "        channel.send({})\n",
              "        if (message.buffers) {\n",
              "          for (const buffer of message.buffers) {\n",
              "            buffers.push(buffer);\n",
              "            downloaded += buffer.byteLength;\n",
              "            progress.value = downloaded;\n",
              "          }\n",
              "        }\n",
              "      }\n",
              "      const blob = new Blob(buffers, {type: 'application/binary'});\n",
              "      const a = document.createElement('a');\n",
              "      a.href = window.URL.createObjectURL(blob);\n",
              "      a.download = filename;\n",
              "      div.appendChild(a);\n",
              "      a.click();\n",
              "      div.remove();\n",
              "    }\n",
              "  "
            ],
            "text/plain": [
              "<IPython.core.display.Javascript object>"
            ]
          },
          "metadata": {
            "tags": []
          }
        },
        {
          "output_type": "display_data",
          "data": {
            "application/javascript": [
              "download(\"download_729bcd7c-e01e-4029-8efa-50c1b2b5dbd7\", \"beginner-2020-08-16.csv\", 169390)"
            ],
            "text/plain": [
              "<IPython.core.display.Javascript object>"
            ]
          },
          "metadata": {
            "tags": []
          }
        }
      ]
    }
  ]
}